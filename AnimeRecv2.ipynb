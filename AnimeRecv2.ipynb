{
 "cells": [
  {
   "cell_type": "code",
   "execution_count": 1,
   "metadata": {},
   "outputs": [
    {
     "data": {
      "text/plain": [
       "Death Note                            39340\n",
       "Sword Art Online                      30583\n",
       "Shingeki no Kyojin                    29584\n",
       "Code Geass: Hangyaku no Lelouch       27718\n",
       "Elfen Lied                            27506\n",
       "                                      ...  \n",
       "Patchin shite! Obaachan                   1\n",
       "Ikkyuu-san: Haru Da! Yancha Hime          1\n",
       "Yuuto-kun ga Iku Movie                    1\n",
       "Goi-sensei to Tarou                       1\n",
       "Ganbare Goemon: Jigen Jou no Akumu        1\n",
       "Name: anime_title, Length: 11196, dtype: int64"
      ]
     },
     "execution_count": 1,
     "metadata": {},
     "output_type": "execute_result"
    }
   ],
   "source": [
    "# Libraries\n",
    "import numpy as np \n",
    "import pandas as pd \n",
    "import matplotlib.pyplot as plt\n",
    "from mpl_toolkits.mplot3d import Axes3D\n",
    "import seaborn as sns\n",
    "import json\n",
    "import pickle\n",
    "#reading the datasets\n",
    "anime_data=pd.read_csv('data/anime_from_anime_recommendations.csv')\n",
    "rating_data=pd.read_csv('data/rating_from_anime_recommendations.csv')\n",
    "\n",
    "anime_fulldata=pd.merge(anime_data,rating_data,on='anime_id',suffixes= ['', '_user'])\n",
    "anime_fulldata = anime_fulldata.rename(columns={'name': 'anime_title', 'rating_user': 'user_rating'})\n",
    "anime_fulldata.anime_title.value_counts()"
   ]
  },
  {
   "cell_type": "code",
   "execution_count": 2,
   "metadata": {},
   "outputs": [],
   "source": [
    "#Replacing -1 with NaN in user_rating column\n",
    "anime_feature=anime_fulldata.copy()\n",
    "anime_feature[\"user_rating\"].replace({-1: np.nan}, inplace=True)\n",
    "anime_feature.head()\n",
    "\n",
    "\n",
    "#dropping all the null values as it aids nothing\n",
    "anime_feature = anime_feature.dropna(axis = 0, how ='any') \n",
    "anime_feature.isnull().sum()\n",
    "counts = anime_feature['user_id'].value_counts()\n",
    "anime_feature = anime_feature[anime_feature['user_id'].isin(counts[counts >= 200].index)]\n",
    "pickle.dump(anime_feature, open('models/anime_feature.pkl', 'wb') )"
   ]
  },
  {
   "cell_type": "code",
   "execution_count": 3,
   "metadata": {},
   "outputs": [],
   "source": [
    "anime_pivot=anime_feature.pivot_table(index='anime_title',columns='user_id',values='user_rating').fillna(0)\n",
    "anime_pivot.head()\n",
    "\n",
    "pickle.dump(anime_pivot, open('models/anime_pivot.pkl', 'wb') )"
   ]
  },
  {
   "cell_type": "code",
   "execution_count": 4,
   "metadata": {},
   "outputs": [],
   "source": [
    "from scipy.sparse import csr_matrix\n",
    "#Creating a sparse matrix\n",
    "anime_matrix = csr_matrix(anime_pivot.values)\n",
    "\n",
    "from sklearn.neighbors import NearestNeighbors\n",
    "\n",
    "#Fitting the model\n",
    "model_knn = NearestNeighbors(metric = 'cosine', algorithm = 'brute')\n",
    "model_knn.fit(anime_matrix)\n",
    "pickle.dump(model_knn, open('models/model_knn.pkl', 'wb') )"
   ]
  },
  {
   "cell_type": "markdown",
   "metadata": {},
   "source": [
    "## User is allowed to enter input instead of it being randomly chosen."
   ]
  },
  {
   "cell_type": "code",
   "execution_count": 5,
   "metadata": {},
   "outputs": [],
   "source": [
    "# for when the query is a string\n",
    "arr = []\n",
    "for i in range(len(anime_pivot)):\n",
    "    arr.append(anime_pivot.index[int(i)])\n",
    "\n",
    "# for when the query is a random (<class 'int'>)\n",
    "query_index = np.random.choice(anime_pivot.shape[0])\n",
    "\n",
    "def recommend(query_index):\n",
    "    if(isinstance(query_index, str)):\n",
    "        # finds the id from the string.\n",
    "        idx = arr.index(query_index)\n",
    "    else:\n",
    "        idx = query_index\n",
    "    \n",
    "    distances, indices = model_knn.kneighbors(anime_pivot.iloc[idx,:].values.reshape(1, -1), n_neighbors = 6)\n",
    "    for i in range(0, len(distances.flatten())):\n",
    "        if i == 0:\n",
    "            print('Recommendations for {0} with id {1}:'.format(anime_pivot.index[idx], idx))\n",
    "        else:\n",
    "            print('{0}: {1}, with distance of {2}:'.format(i, anime_pivot.index[indices.flatten()[i]], round(distances.flatten()[i], 4)))\n",
    "    print()"
   ]
  },
  {
   "cell_type": "code",
   "execution_count": 6,
   "metadata": {},
   "outputs": [
    {
     "name": "stdout",
     "output_type": "stream",
     "text": [
      "Recommendations for Death Note with id 1654:\n",
      "1: Code Geass: Hangyaku no Lelouch, with distance of 0.1898:\n",
      "2: Code Geass: Hangyaku no Lelouch R2, with distance of 0.2079:\n",
      "3: Fullmetal Alchemist: Brotherhood, with distance of 0.2334:\n",
      "4: Elfen Lied, with distance of 0.2346:\n",
      "5: Shingeki no Kyojin, with distance of 0.2364:\n",
      "\n",
      "Recommendations for Hokuto no Ken 2 with id 3403:\n",
      "1: Hokuto no Ken, with distance of 0.2699:\n",
      "2: Hokuto no Ken Zero: Kenshirou Den, with distance of 0.5149:\n",
      "3: Hokuto no Ken: Toki-den, with distance of 0.5349:\n",
      "4: Hokuto no Ken: Yuria-den, with distance of 0.5353:\n",
      "5: Shin Hokuto no Ken, with distance of 0.5379:\n",
      "\n",
      "Recommendations for Sinbad: Soratobu Hime to Himitsu no Shima with id 7959:\n",
      "1: Sinbad: Mahou no Lamp to Ugoku Shima, with distance of 0.4265:\n",
      "2: Tiger &amp; Bunny: Too Many Cooks Spoil the Broth, with distance of 0.5085:\n",
      "3: Hikari: Kariya wo Tsunagu Monogatari, with distance of 0.5085:\n",
      "4: Kindaichi Shounen no Jikenbo: Shinigami Byouin Satsujin Jiken, with distance of 0.7597:\n",
      "5: Juusenshi Gulkeeva, with distance of 0.7626:\n",
      "\n"
     ]
    }
   ],
   "source": [
    "recommend(\"Death Note\")\n",
    "recommend(query_index)\n",
    "\n",
    "recommend('Sinbad: Soratobu Hime to Himitsu no Shima')"
   ]
  },
  {
   "cell_type": "code",
   "execution_count": 21,
   "metadata": {},
   "outputs": [
    {
     "name": "stdout",
     "output_type": "stream",
     "text": [
      "Recommendations for Yozakura Quartet with id 9575:\n",
      "1: Yozakura Quartet: Hoshi no Umi, with distance of 0.5379:\n",
      "2: Yozakura Quartet: Hana no Uta, with distance of 0.615:\n",
      "3: Toaru Majutsu no Index, with distance of 0.6302:\n",
      "4: Shakugan no Shana, with distance of 0.6469:\n",
      "5: Fate/stay night, with distance of 0.657:\n",
      "\n",
      "Recommendations for Yozakura Quartet with id 9575:\n",
      "1: Yozakura Quartet: Hoshi no Umi, with distance of 0.5379:\n",
      "2: Yozakura Quartet: Hana no Uta, with distance of 0.615:\n",
      "3: Toaru Majutsu no Index, with distance of 0.6302:\n",
      "4: Shakugan no Shana, with distance of 0.6469:\n",
      "5: Fate/stay night, with distance of 0.657:\n",
      "\n"
     ]
    }
   ],
   "source": [
    "# testing the function with the string name and int id.\n",
    "recommend('Yozakura Quartet')\n",
    "recommend(9575)"
   ]
  },
  {
   "cell_type": "code",
   "execution_count": null,
   "metadata": {},
   "outputs": [],
   "source": [
    "inp = int(input(\"enter an anime id:\\n\"))\n",
    "recommend(inp)"
   ]
  },
  {
   "cell_type": "code",
   "execution_count": 123,
   "metadata": {},
   "outputs": [
    {
     "name": "stdout",
     "output_type": "stream",
     "text": [
      "enter an anime title:\n",
      "Yozakura Quartet\n",
      "Recommendations for Yozakura Quartet with id 9575:\n",
      "1: Yozakura Quartet: Hoshi no Umi, with distance of 0.5379:\n",
      "2: Yozakura Quartet: Hana no Uta, with distance of 0.615:\n",
      "3: Toaru Majutsu no Index, with distance of 0.6302:\n",
      "4: Shakugan no Shana, with distance of 0.6469:\n",
      "5: Fate/stay night, with distance of 0.657:\n",
      "\n"
     ]
    }
   ],
   "source": [
    "inp = input(\"enter an anime title:\\n\")\n",
    "recommend(inp)"
   ]
  },
  {
   "cell_type": "code",
   "execution_count": null,
   "metadata": {},
   "outputs": [],
   "source": []
  }
 ],
 "metadata": {
  "kernelspec": {
   "display_name": "Python 3",
   "language": "python",
   "name": "python3"
  },
  "language_info": {
   "codemirror_mode": {
    "name": "ipython",
    "version": 3
   },
   "file_extension": ".py",
   "mimetype": "text/x-python",
   "name": "python",
   "nbconvert_exporter": "python",
   "pygments_lexer": "ipython3",
   "version": "3.8.5"
  }
 },
 "nbformat": 4,
 "nbformat_minor": 4
}
